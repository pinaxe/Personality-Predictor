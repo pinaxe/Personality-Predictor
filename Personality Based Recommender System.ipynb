{
 "cells": [
  {
   "cell_type": "markdown",
   "metadata": {},
   "source": [
    "<img src=\"TwitterData/flow.png\"/>"
   ]
  },
  {
   "cell_type": "markdown",
   "metadata": {
    "colab_type": "text",
    "id": "z0s4JIpel8sA"
   },
   "source": [
    "### Read the input data files."
   ]
  },
  {
   "cell_type": "code",
   "execution_count": 1,
   "metadata": {
    "colab": {
     "autoexec": {
      "startup": false,
      "wait_interval": 0
     }
    },
    "colab_type": "code",
    "id": "Gbh1JMYGl8sB"
   },
   "outputs": [],
   "source": [
    "import numpy as np\n",
    "import os\n",
    "import pandas as pd\n",
    "import matplotlib\n",
    "import matplotlib.pyplot as plt\n",
    "import seaborn as sns\n",
    "import nltk\n",
    "import re\n",
    "import sklearn.metrics.pairwise as sk\n",
    "from textblob import TextBlob\n",
    "# nltk.download()\n",
    "from nltk.corpus import stopwords\n",
    "from sklearn import linear_model\n",
    "from sklearn.model_selection import GridSearchCV\n",
    "from sklearn.feature_extraction.text import CountVectorizer"
   ]
  },
  {
   "cell_type": "code",
   "execution_count": 2,
   "metadata": {
    "colab": {
     "autoexec": {
      "startup": false,
      "wait_interval": 0
     }
    },
    "colab_type": "code",
    "id": "GO3KFJ9fl8sE",
    "outputId": "eff78ff0-b104-4da0-c7d8-c31eb5dd28d6"
   },
   "outputs": [
    {
     "name": "stdout",
     "output_type": "stream",
     "text": [
      "2\n",
      "159\n"
     ]
    }
   ],
   "source": [
    "#Read the tweets one by one and process it\n",
    "import csv\n",
    "user_id=[]\n",
    "inpTweets = csv.reader(open('TwitterData/survey_dump_with_tweet_count', 'rt',encoding='utf8'), delimiter=',')\n",
    "i = 0\n",
    "for row in inpTweets:\n",
    "    i+=1;\n",
    "    if(i>1):\n",
    "        user_id.append(row[0])\n",
    "    if('1663416536' in row):\n",
    "        print(i)\n",
    "\n",
    "print(i);"
   ]
  },
  {
   "cell_type": "markdown",
   "metadata": {
    "colab_type": "text",
    "id": "FW2hL82wl8sJ"
   },
   "source": [
    "### Pre-process Tweets"
   ]
  },
  {
   "cell_type": "code",
   "execution_count": 3,
   "metadata": {
    "colab": {
     "autoexec": {
      "startup": false,
      "wait_interval": 0
     }
    },
    "colab_type": "code",
    "id": "NNwpmlvel8sK"
   },
   "outputs": [],
   "source": [
    "\n",
    "\n",
    "class PreprocessTweets:\n",
    "\n",
    "    def __init__(self):\n",
    "        self.name = 'PreprocessTweets'\n",
    "\n",
    "    #start process_tweet\n",
    "    def processTweet(self, tweet):\n",
    "        \n",
    "        #Convert to lower case\n",
    "        tweet = tweet.lower()\n",
    "        #Convert www.* or https?://* to URL\n",
    "        tweet = re.sub('((www\\.[^\\s]+)|(https?://[^\\s]+))','URL',tweet)\n",
    "        #Convert @username to AT_USER\n",
    "        tweet = re.sub('@[^\\s]+','AT_USER',tweet)\n",
    "        #Remove additional white spaces\n",
    "        tweet = re.sub('[\\s]+', ' ', tweet)\n",
    "        #Replace #word with word\n",
    "        tweet = re.sub(r'#([^\\s]+)', r'\\1', tweet)\n",
    "        #trim\n",
    "        tweet = tweet.strip('\\'\"')\n",
    "        # Remove all Non-ASCII characters\n",
    "        tweet = re.sub(r'[^\\x00-\\x7F]+',' ', tweet)\n",
    "\n",
    "        return tweet"
   ]
  },
  {
   "cell_type": "code",
   "execution_count": 4,
   "metadata": {
    "colab": {
     "autoexec": {
      "startup": false,
      "wait_interval": 0
     }
    },
    "colab_type": "code",
    "id": "CvehIc4el8sN"
   },
   "outputs": [],
   "source": [
    "class FilterStopWords:\n",
    "\n",
    "    # stopWords = []\n",
    "    def __init__(self):\n",
    "        self.name = 'FilterStopWords'\n",
    "        #initialize stopWords\n",
    "        self.stopWords = []\n",
    "\n",
    "\n",
    "    def getStopWordList(self, stopWordListFileName):\n",
    "        #read the stopwords file and build a list\n",
    "        stopWords = []\n",
    "        stopWords.append('AT_USER')\n",
    "        stopWords.append('URL')\n",
    "        stopWords.append('[')\n",
    "        stopWords.append('[')\n",
    "\n",
    "        fp = open(stopWordListFileName, 'r',encoding='utf8')\n",
    "        line = fp.readline()\n",
    "        while line:\n",
    "            word = line.strip()\n",
    "            stopWords.append(word)\n",
    "            line = fp.readline()\n",
    "        fp.close()\n",
    "        return stopWords\n",
    "    \n",
    "    def getFeatureVector(self, tweet, stopWords):\n",
    "        featureVector = []\n",
    "        #split tweet into words\n",
    "        words = tweet.split()\n",
    "        for w in words:\n",
    "            #replace two or more with two occurrences\n",
    "            #w = replaceTwoOrMore(w)\n",
    "            #strip punctuation\n",
    "            w = w.strip('\\'\"?,.')\n",
    "            #check if the word stats with an alphabet\n",
    "            val = re.search(r\"^[a-zA-Z][a-zA-Z0-9]*$\", w)\n",
    "            #ignore if it is a stop word\n",
    "            if(w in self.stopWords or val is None):\n",
    "                continue\n",
    "            else:\n",
    "                featureVector.append(w.lower())\n",
    "        return featureVector"
   ]
  },
  {
   "cell_type": "markdown",
   "metadata": {
    "colab_type": "text",
    "id": "jdqkPePBl8sP"
   },
   "source": [
    "### Feature Engineering "
   ]
  },
  {
   "cell_type": "code",
   "execution_count": 5,
   "metadata": {
    "colab": {
     "autoexec": {
      "startup": false,
      "wait_interval": 0
     }
    },
    "colab_type": "code",
    "id": "QV2Tb7J_l8sS"
   },
   "outputs": [],
   "source": [
    "\n",
    "\n",
    "class FeatureEngineering:\n",
    "\n",
    "    def __init__(self):\n",
    "        self.name = 'FeatureEngineering'\n",
    "        self.featureList = []\n",
    "        # self.sid = SentimentIntensityAnalyzer()\n",
    "\n",
    "    #start extract_features\n",
    "    def extract_features(self,tweet):\n",
    "        tweet_words = set(tweet)\n",
    "        features = {}\n",
    "        for word in self.featureList:\n",
    "            features['contains(%s)' % word] = (word in tweet_words)\n",
    "        return features\n",
    "\n",
    "## Create New Training set based on personality labels predicted from Survey results\n",
    "\n",
    "    def createNewTrainingSet(self, fileName):\n",
    "        XTrain = []\n",
    "        YTrain = []\n",
    "        XTrainFeatures = []\n",
    "        XTrainSentiment = []\n",
    "        XTrainFreqTweets = []\n",
    "        geo_latitude = []\n",
    "        geo_longitude = []\n",
    "        \n",
    "        objFilterStopWords = FilterStopWords()\n",
    "        objPreprocessTweets = PreprocessTweets()\n",
    "\n",
    "        stopWords = objFilterStopWords.getStopWordList('TwitterData/StopWords.txt')\n",
    "        \n",
    "        #Read the tweets one by one and process it\n",
    "        inpTweets = csv.reader(open(fileName, 'r',encoding='utf8'), delimiter=',')\n",
    "        next(inpTweets)\n",
    "        tweets = []\n",
    "        i = 0\n",
    "        for row in inpTweets:\n",
    "            personality = row[5]\n",
    "            tweet = row[1]\n",
    "            cleanTweet = tweet.replace('\"\",\"\"',\" \")\n",
    "            cleanTweet = cleanTweet.replace('\"\"',\" \")\n",
    "            processedTweet = objPreprocessTweets.processTweet(cleanTweet)\n",
    "\n",
    "            XTrainFreqTweets.append(int(row[4]))\n",
    "            wordsList = processedTweet.split()\n",
    "            \n",
    "            # Remove stop words\n",
    "            filtered_words = [word for word in wordsList if word not in stopwords.words('english')]\n",
    "            filteredTweets = ' '.join(filtered_words)\n",
    "            \n",
    "            featureVector = objFilterStopWords.getFeatureVector(processedTweet, stopWords)\n",
    "            \n",
    "            geo_latitude.append(float(row[2]))\n",
    "            geo_longitude.append(float(row[3]))\n",
    "            \n",
    "            blob = TextBlob(processedTweet)\n",
    "            sentiment = 0\n",
    "            for sentence in blob.sentences:\n",
    "                sentiment += sentence.sentiment.polarity\n",
    "\n",
    "            totSentiment = sentiment/ len(blob.sentences)\n",
    "\n",
    "            XTrainSentiment.append(totSentiment)\n",
    "\n",
    "            XTrainFeatures.append(filteredTweets)\n",
    "            \n",
    "            YTrain.append(personality)       \n",
    "\n",
    "        return XTrain, YTrain, XTrainFeatures, XTrainSentiment, XTrainFreqTweets, geo_latitude, geo_longitude\n"
   ]
  },
  {
   "cell_type": "code",
   "execution_count": 6,
   "metadata": {
    "colab": {
     "autoexec": {
      "startup": false,
      "wait_interval": 0
     }
    },
    "colab_type": "code",
    "id": "-JYbu2ial8sU"
   },
   "outputs": [],
   "source": [
    "objFeatureEngineering = FeatureEngineering()\n",
    "fileName = 'TwitterData/survey_dump_with_tweet_count'\n",
    "XTrain, YTrain, XTrainFeatures, XTrainSentiment, XTrainFreqTweets, geo_latitude, geo_longitude = objFeatureEngineering.createNewTrainingSet(fileName)"
   ]
  },
  {
   "cell_type": "markdown",
   "metadata": {
    "colab_type": "text",
    "id": "NwIlCYDrl8si"
   },
   "source": [
    "### Get Feature vector"
   ]
  },
  {
   "cell_type": "code",
   "execution_count": 7,
   "metadata": {
    "colab": {
     "autoexec": {
      "startup": false,
      "wait_interval": 0
     }
    },
    "colab_type": "code",
    "id": "dkyE9qeml8sl"
   },
   "outputs": [],
   "source": [
    "newYTrain = []\n",
    "\n",
    "for item in YTrain:\n",
    "    temp = item.replace('[', '')\n",
    "    temp = temp.replace('\\\"', '')\n",
    "    newItem = temp.replace(']', '')\n",
    "    newYTrain.append(newItem)\n",
    "    \n",
    "YTrain = newYTrain"
   ]
  },
  {
   "cell_type": "markdown",
   "metadata": {
    "colab_type": "text",
    "id": "B-AyAxLMl8sp"
   },
   "source": [
    "### Map the class labels to numbers"
   ]
  },
  {
   "cell_type": "code",
   "execution_count": 8,
   "metadata": {
    "colab": {
     "autoexec": {
      "startup": false,
      "wait_interval": 0
     }
    },
    "colab_type": "code",
    "id": "VCXCmHgil8sq"
   },
   "outputs": [],
   "source": [
    "def mapLabels(className):\n",
    "    if className == 'Conscientiousness':\n",
    "        return 0\n",
    "    elif className == 'Extrovert':\n",
    "        return 1\n",
    "    elif className == 'Agreeable':\n",
    "        return 2\n",
    "    elif className == 'Empathetic':\n",
    "        return 3\n",
    "    elif className == 'Novelty Seeking':\n",
    "        return 4\n",
    "    elif className == 'Perfectionist':\n",
    "        return 5\n",
    "    elif className == 'Rigid':\n",
    "        return 6\n",
    "    elif className == 'Impulsive':\n",
    "        return 7\n",
    "    elif className == 'Psychopath':\n",
    "        return 8\n",
    "    elif className == 'Obsessive':\n",
    "        return 9\n",
    "    #elif className == None:\n",
    "        #return 10\n",
    "    else:\n",
    "        pass\n",
    "\n",
    "YTrain = [mapLabels(x) for x in YTrain]"
   ]
  },
  {
   "cell_type": "code",
   "execution_count": 9,
   "metadata": {
    "colab": {
     "autoexec": {
      "startup": false,
      "wait_interval": 0
     }
    },
    "colab_type": "code",
    "id": "K-r1So9Fl8sv",
    "outputId": "1d46b509-f994-434e-e91a-891c448a205d"
   },
   "outputs": [],
   "source": [
    "XTrain = np.array(XTrainFeatures)\n",
    "YTrain = np.array(YTrain)"
   ]
  },
  {
   "cell_type": "code",
   "execution_count": 10,
   "metadata": {},
   "outputs": [
    {
     "data": {
      "text/plain": [
       "array([0, 7, 8, 6, 4, 9, 7, 9, 6, 1, 6, 7, 2, 4, 2, 2, 7, 9, 7, 9, 7, 8, 6,\n",
       "       9, 4, 8, 9, 1, 3, 9, 9, 8, 7, 7, 9, 9, 1, 1, 1, 8, 9, 7, 8, 1, 6, 8,\n",
       "       5, 8, 6, 3, 1, 4, 9, 3, 9, 7, 7, 9, 9, 3, 7, 3, 9, 4, 8, 7, 1, 9, 9,\n",
       "       1, 9, 1, 3, 3, 2, 3, 1, 1, 4, 7, 8, 6, 4, 9, 7, 9, 6, 1, 6, 7, 2, 4,\n",
       "       2, 2, 7, 9, 7, 9, 7, 8, 6, 9, 4, 8, 9, 1, 3, 9, 9, 8, 7, 7, 9, 9, 1,\n",
       "       1, 1, 8, 9, 7, 8, 1, 6, 8, 5, 8, 6, 3, 1, 4, 9, 3, 9, 7, 7, 9, 9, 3,\n",
       "       7, 3, 9, 4, 8, 7, 1, 9, 9, 1, 9, 1, 3, 3, 2, 3, 1, 1, 0, 4])"
      ]
     },
     "execution_count": 10,
     "metadata": {},
     "output_type": "execute_result"
    }
   ],
   "source": [
    "YTrain"
   ]
  },
  {
   "cell_type": "markdown",
   "metadata": {
    "colab_type": "text",
    "id": "KzAk6sADl8sy"
   },
   "source": [
    "### Split Train and Test data"
   ]
  },
  {
   "cell_type": "code",
   "execution_count": 11,
   "metadata": {
    "colab": {
     "autoexec": {
      "startup": false,
      "wait_interval": 0
     }
    },
    "colab_type": "code",
    "id": "m8BT_RnZl8s0",
    "outputId": "f682b2bb-2003-4157-e199-b0bf4dc9644a"
   },
   "outputs": [],
   "source": [
    "n=60\n",
    "trainSamples = XTrain[0:n]\n",
    "YtrainSamples = YTrain[0:n]\n",
    "\n",
    "testSamples = XTrain[n:]\n",
    "YtestSamples = YTrain[n:]\n",
    "\n",
    "trainSentimentSamples = np.array(XTrainSentiment[0:n])\n",
    "testSentimentSamples = np.array(XTrainSentiment[n:])\n",
    "trainFreqTweetSamples = np.array(XTrainFreqTweets[0:n])\n",
    "testFreqTweetSamples = np.array(XTrainFreqTweets[n:])"
   ]
  },
  {
   "cell_type": "markdown",
   "metadata": {
    "colab_type": "text",
    "id": "EtniRnE5l8s2"
   },
   "source": [
    "### Bag of Words as Features"
   ]
  },
  {
   "cell_type": "code",
   "execution_count": 12,
   "metadata": {
    "colab": {
     "autoexec": {
      "startup": false,
      "wait_interval": 0
     }
    },
    "colab_type": "code",
    "id": "bnuzEgeDl8s2",
    "outputId": "8a8e623c-830d-4699-ed17-4311d2884496"
   },
   "outputs": [],
   "source": [
    "\n",
    "vectorizer = CountVectorizer()\n",
    "XTr = vectorizer.fit_transform(trainSamples)\n",
    "\n",
    "trainBagVector = XTr.toarray()\n",
    "XTe = vectorizer.transform(testSamples)\n",
    "testBagVector = XTe.toarray()"
   ]
  },
  {
   "cell_type": "code",
   "execution_count": 13,
   "metadata": {
    "colab": {
     "autoexec": {
      "startup": false,
      "wait_interval": 0
     }
    },
    "colab_type": "code",
    "id": "3Qry68AZl8s9"
   },
   "outputs": [],
   "source": [
    "XEv = XTe"
   ]
  },
  {
   "cell_type": "markdown",
   "metadata": {
    "colab_type": "text",
    "id": "IlWAkodOl8tb"
   },
   "source": [
    "### Stack or concatenate all features together"
   ]
  },
  {
   "cell_type": "code",
   "execution_count": 14,
   "metadata": {
    "colab": {
     "autoexec": {
      "startup": false,
      "wait_interval": 0
     }
    },
    "colab_type": "code",
    "id": "bm9h-y3ul8tc",
    "outputId": "e3e22f64-6be4-4121-93ad-073e97c8acf7"
   },
   "outputs": [],
   "source": [
    "XTrainWordFeatures = trainBagVector #trainNGramVector\n",
    "\n",
    "temp = np.column_stack((XTrainWordFeatures, trainSentimentSamples))\n",
    "\n",
    "XTrainAllFeatures =  np.column_stack((temp, trainFreqTweetSamples))\n",
    "\n",
    "XTestWordFeatures = testBagVector #testNGramVector\n",
    "temp =  np.column_stack((XTestWordFeatures, testSentimentSamples))\n",
    "\n",
    "XTestAllFeatures =  np.column_stack((temp, testFreqTweetSamples))"
   ]
  },
  {
   "cell_type": "markdown",
   "metadata": {
    "colab_type": "text",
    "id": "JdqHbq9zl8ti"
   },
   "source": [
    "### Write Predicted Output Labels to File"
   ]
  },
  {
   "cell_type": "code",
   "execution_count": 15,
   "metadata": {
    "colab": {
     "autoexec": {
      "startup": false,
      "wait_interval": 0
     }
    },
    "colab_type": "code",
    "id": "hHucWncol8ti"
   },
   "outputs": [],
   "source": [
    "def writePredictedLabelFile(YPred):\n",
    "    f = open(\"Predictions.csv\",\"w\")\n",
    "    f.write(\"Id,Label\" + \"\\n\")\n",
    "    for i in range(len(YPred)):\n",
    "        f.write(str(i) + \",\" + str(np.around(YPred[i],decimals=2))+ \"\\n\")\n",
    "    f.close()"
   ]
  },
  {
   "cell_type": "code",
   "execution_count": 16,
   "metadata": {
    "colab": {
     "autoexec": {
      "startup": false,
      "wait_interval": 0
     }
    },
    "colab_type": "code",
    "id": "4LE18q6Al8uT",
    "outputId": "d47657c6-eeab-4c2e-fb4f-88d632cbcfc4"
   },
   "outputs": [],
   "source": [
    "train = XTrainAllFeatures\n",
    "\n",
    "YTrain = YtrainSamples\n",
    "YTest = YtestSamples"
   ]
  },
  {
   "cell_type": "code",
   "execution_count": 17,
   "metadata": {
    "colab": {
     "autoexec": {
      "startup": false,
      "wait_interval": 0
     }
    },
    "colab_type": "code",
    "id": "3NkxQNs1l8ug"
   },
   "outputs": [],
   "source": [
    "from sklearn.neighbors import KNeighborsClassifier\n",
    "\n",
    "train = XTrainAllFeatures\n",
    "test = XTestAllFeatures\n",
    "\n",
    "params = {'neighbours':10}\n",
    "neighbours = params['neighbours']\n",
    "neigh = KNeighborsClassifier(n_neighbors=neighbours)\n",
    "YPredKNN = neigh.fit(train, YTrain).predict(test)"
   ]
  },
  {
   "cell_type": "code",
   "execution_count": 18,
   "metadata": {},
   "outputs": [],
   "source": [
    "from sklearn.ensemble import RandomForestClassifier\n",
    "params = {'trees':150, 'criterion':'entropy','random_state':None}\n",
    "trees = params['trees']\n",
    "crit = params['criterion']\n",
    "seed = params['random_state']\n",
    "clf = RandomForestClassifier(n_estimators=trees,criterion=crit,random_state=seed)\n",
    "clf.fit(train, YTrain)\n",
    "YPredRF = clf.predict(test)"
   ]
  },
  {
   "cell_type": "code",
   "execution_count": 19,
   "metadata": {},
   "outputs": [
    {
     "name": "stderr",
     "output_type": "stream",
     "text": [
      "/usr/local/lib/python3.5/dist-packages/sklearn/model_selection/_split.py:605: Warning: The least populated class in y has only 1 members, which is too few. The minimum number of members in any class cannot be less than n_splits=3.\n",
      "  % (min_groups, self.n_splits)), Warning)\n"
     ]
    }
   ],
   "source": [
    "#LogReg = linear_model.LogisticRegression(solver = 'sag', multi_class = 'multinomial',penalty='l2', dual=False, tol=0.0001, C=1.0, fit_intercept=True, intercept_scaling=1, class_weight=None, random_state=None)\n",
    "LogReg = linear_model.LogisticRegression()\n",
    "penalty = ['l1', 'l2']\n",
    "C = np.logspace(0, 4, 10)\n",
    "hyperparameters = dict(C=C, penalty=penalty)\n",
    "clf = GridSearchCV(LogReg, hyperparameters)\n",
    "\n",
    "clf.fit(train, YTrain)\n",
    "YPredLR = clf.predict(test)"
   ]
  },
  {
   "cell_type": "code",
   "execution_count": 20,
   "metadata": {
    "colab": {
     "autoexec": {
      "startup": false,
      "wait_interval": 0
     }
    },
    "colab_type": "code",
    "id": "XSLTiAorl8un"
   },
   "outputs": [],
   "source": [
    "from sklearn import svm\n",
    "\n",
    "params = {'kernel':'linear'}\n",
    "ker = params['kernel']\n",
    "YPred = svm.SVC(kernel=ker, probability = True).fit(train, YTrain).decision_function(test)"
   ]
  },
  {
   "cell_type": "code",
   "execution_count": 21,
   "metadata": {},
   "outputs": [
    {
     "data": {
      "text/plain": [
       "array([[ 0.81654013,  2.99139761,  1.94308885,  4.01834937,  6.0745545 ,\n",
       "        -0.23120201,  5.04813939,  9.15013651,  8.10113925,  7.08785639],\n",
       "       [ 0.81142703,  5.03890413,  1.80706679,  7.0872634 ,  4.01130893,\n",
       "        -0.23082093,  2.95550217,  6.04464569,  8.15404166,  9.32066113],\n",
       "       [ 0.82757726,  7.15055668,  1.84363312,  6.09449037,  5.02272123,\n",
       "        -0.22015599,  3.89705578,  2.93215244,  8.16419802,  9.28777109],\n",
       "       [ 0.81997877,  3.99095768,  1.95767569,  4.00254085,  6.08693182,\n",
       "        -0.23303254,  4.00385496,  9.19589288,  8.10897057,  7.06622932],\n",
       "       [ 9.06348868,  6.05816888,  0.93745089,  1.84555842,  6.12256763,\n",
       "        -0.17373658,  6.09996032,  4.99529617,  5.02436314,  5.02688245],\n",
       "       [ 0.98007379,  6.06479777,  1.92471229,  2.89644968,  7.10421705,\n",
       "        -0.19686799,  8.09984216,  6.0467117 ,  3.99802402,  8.08203953],\n",
       "       [ 0.78602606,  1.96183119,  2.98312944,  5.01213459,  6.0663818 ,\n",
       "        -0.24625317,  4.00725459,  9.23035848,  8.14518432,  7.0539527 ],\n",
       "       [ 0.74644602,  3.88896911,  1.84236007,  9.27309999,  5.03178798,\n",
       "        -0.26923711,  2.80516432,  8.31235259,  6.20832846,  7.16072858],\n",
       "       [ 0.79109224,  5.04458335,  1.75089931,  8.22445145,  5.07772653,\n",
       "        -0.2364902 ,  2.85178463,  6.03927496,  6.11551119,  9.34116654],\n",
       "       [ 0.80860953,  5.05599111,  1.88418191,  2.9530494 ,  6.09075709,\n",
       "        -0.22433405,  4.04336301,  9.11953858,  7.10949464,  8.15934878],\n",
       "       [ 0.77493377,  5.10174057,  1.67776443,  9.5       ,  7.23516081,\n",
       "        -0.25017409,  2.74092603,  3.84303631,  8.34328995,  6.03332221],\n",
       "       [ 8.052224  ,  9.07546933,  0.9283092 ,  1.8637006 ,  6.1087392 ,\n",
       "        -0.18509785,  6.08935839,  4.01566037,  5.00772128,  4.04391549],\n",
       "       [ 0.97138678,  6.06553432,  1.92200055,  2.90417355,  7.11453939,\n",
       "        -0.18002561,  8.09576642,  5.01998327,  6.02034264,  7.0662987 ],\n",
       "       [ 4.00396357,  6.05416104,  0.91277552,  1.90489365,  8.1178533 ,\n",
       "        -0.19424075,  8.09615237,  5.02605132,  3.003378  ,  8.07501198],\n",
       "       [ 9.08301963,  7.07067157,  0.91110819,  1.85122548,  6.10552051,\n",
       "        -0.17993368,  6.0964053 ,  5.01024734,  5.01602245,  4.03571322],\n",
       "       [ 5.01100176,  8.0714893 ,  0.92459285,  1.88030151,  7.1037353 ,\n",
       "        -0.18738899,  9.10926398,  3.02431479,  4.00553311,  6.05715638],\n",
       "       [ 0.884384  ,  8.12669784,  1.87716185,  3.96961293,  6.06388634,\n",
       "        -0.19002016,  9.15548781,  4.00449642,  4.01195851,  7.09633447],\n",
       "       [ 5.01636197,  7.0698896 ,  0.9282159 ,  1.88231037,  7.10477706,\n",
       "        -0.19336058,  8.08636621,  4.02651304,  2.99484669,  8.08407974],\n",
       "       [ 6.02220616,  7.06470133,  0.91965934,  1.88691231,  6.10245907,\n",
       "        -0.19328807,  8.09293379,  4.02282225,  2.99524254,  8.08635127],\n",
       "       [ 0.83705251,  3.98859023,  1.97090616,  2.96052992,  6.03346556,\n",
       "        -0.21105959,  8.09332896,  9.24083736,  5.01271493,  7.07363396],\n",
       "       [ 0.8378761 ,  5.03965348,  1.89456716,  5.01651112,  6.04531606,\n",
       "        -0.21350553,  2.99554685,  6.02415244,  9.24084103,  8.11904129],\n",
       "       [ 0.804558  ,  1.93588353,  7.08030708,  2.98746619,  3.9976038 ,\n",
       "        -0.23441155,  9.24324945,  7.11972429,  4.99963811,  7.06598111],\n",
       "       [ 0.84377123,  5.01725745,  1.92143409,  2.98030891,  9.24081153,\n",
       "        -0.21462148,  7.05967473,  6.06562924,  4.01640839,  8.06932591],\n",
       "       [ 0.8070891 ,  2.95801339,  7.076985  ,  1.956801  ,  6.04981332,\n",
       "        -0.23256286,  4.0033705 ,  8.1252332 ,  5.01429976,  9.2409576 ],\n",
       "       [ 0.83426189,  3.00821555,  5.02115345,  1.90925039,  6.04150862,\n",
       "        -0.21167461,  7.07151912,  9.24084276,  4.00900077,  8.07592205],\n",
       "       [ 0.83869101,  6.07434841,  1.86647056,  4.00500295,  5.03190958,\n",
       "        -0.21131617,  2.98930352,  8.07703279,  7.08771309,  9.24084428],\n",
       "       [ 0.85702791,  7.07350897,  1.92761395,  2.9653543 ,  7.07292263,\n",
       "        -0.20703649,  9.24083398,  5.0164227 ,  3.99513355,  7.0582185 ],\n",
       "       [ 0.90703025,  9.24084497,  1.92457759,  2.88429404,  6.08749685,\n",
       "        -0.17771308,  7.14357872,  3.93892428,  4.95315097,  8.09781542],\n",
       "       [ 0.87202811,  8.07954441,  1.92213404,  2.92812469,  7.06624209,\n",
       "        -0.18144219,  9.24081814,  6.03556587,  3.98190147,  5.05508337],\n",
       "       [ 0.80759059,  6.05587181,  1.89816928,  7.0494881 ,  4.04002746,\n",
       "        -0.23372472,  3.00982876,  9.24159045,  6.06227548,  7.0688828 ],\n",
       "       [ 0.77151768,  2.90823379,  9.24083059,  6.06812922,  4.03067459,\n",
       "        -0.25402377,  1.83337806,  8.266855  ,  5.05076058,  7.08364426],\n",
       "       [ 0.84299682,  4.01742221,  1.88338006,  6.01595011,  9.2408332 ,\n",
       "        -0.21067899,  2.99880715,  5.02659218,  7.08020191,  8.10449535],\n",
       "       [ 0.78141952,  1.92081569,  9.240802  ,  4.00932064,  5.03929153,\n",
       "        -0.24578822,  2.97922509,  8.14664304,  6.0682682 ,  7.0600025 ],\n",
       "       [ 0.87919107,  6.04301821,  9.24083607,  1.8351437 ,  5.06789249,\n",
       "        -0.18729045,  7.10922372,  3.9749531 ,  2.92350945,  8.11352264],\n",
       "       [ 0.81333413,  4.0059196 ,  1.96589786,  3.00237685,  8.05297431,\n",
       "        -0.22879983,  7.05974959,  9.24400472,  5.03464828,  6.04989449],\n",
       "       [ 0.82921777,  8.21286558,  1.8668533 ,  2.93300283,  4.97342674,\n",
       "        -0.2140814 ,  6.00293843,  3.9854827 ,  7.1178245 ,  9.29246954],\n",
       "       [ 0.81762204,  5.03109451,  1.94235629,  3.99465233,  6.04428579,\n",
       "        -0.22631043,  2.97202956,  9.24129196,  7.09279725,  8.09018069],\n",
       "       [ 0.82105002,  2.95157533,  8.12236252,  1.93960427,  6.05568796,\n",
       "        -0.22093546,  5.05192556,  7.07864263,  3.95927562,  9.24081154],\n",
       "       [ 0.77673434,  1.93858187,  3.97100453,  6.04832424,  5.06408269,\n",
       "        -0.24952709,  2.94381835,  9.27049716,  8.13920333,  7.09728058],\n",
       "       [ 0.80664579,  3.97744088,  1.96551557,  4.00341815,  6.03997049,\n",
       "        -0.22796017,  3.99667243,  8.16470267,  9.24082677,  7.03276743],\n",
       "       [ 0.84761225,  7.07168511,  5.02530283,  1.90575319,  6.0343218 ,\n",
       "        -0.20708331,  9.24081019,  8.08545773,  3.9997299 ,  2.9964103 ],\n",
       "       [ 0.77344409,  1.92065087,  3.9623776 ,  6.04870769,  5.0764128 ,\n",
       "        -0.25414342,  2.92195812,  8.20095874,  7.10848626,  9.24114726],\n",
       "       [ 0.82367792,  2.98137751,  5.01100272,  1.95526363,  9.24080659,\n",
       "        -0.22126314,  6.06614677,  7.07782628,  3.98568631,  8.07947541],\n",
       "       [ 0.80772403,  3.99599976,  1.93978898,  2.96009439,  6.05845335,\n",
       "        -0.23253801,  5.03160866,  8.14659647,  9.2408307 ,  7.05144168],\n",
       "       [ 0.78436052,  4.99869851,  1.75123925,  8.23227219,  4.01023134,\n",
       "        -0.24218293,  2.88950799,  7.1166159 ,  6.15984811,  9.29940913],\n",
       "       [ 0.85105713,  9.24081576,  1.94015002,  4.00322121,  7.07976853,\n",
       "        -0.20468316,  8.08423962,  6.03203497,  2.9598732 ,  5.01352271],\n",
       "       [ 0.7942081 ,  6.06134888,  1.86800039,  9.24183822,  4.02126035,\n",
       "        -0.23824756,  3.00673001,  6.06222168,  6.05656037,  8.12607955],\n",
       "       [ 0.85764004,  8.24247813,  1.86734281,  2.94447974,  4.96597641,\n",
       "        -0.2088864 ,  6.04463754,  3.88826349,  7.05537211,  9.34269614],\n",
       "       [ 0.85664882,  8.09180031,  1.91626549,  2.94809971,  6.05079044,\n",
       "        -0.20218689,  7.03643888,  5.03846396,  4.02281778,  9.24086151],\n",
       "       [ 0.86431807,  5.01998917,  1.94568834,  2.92964548,  6.06756796,\n",
       "        -0.19751205,  8.11388323,  5.99827614,  9.24081337,  5.0173303 ],\n",
       "       [ 0.83453766,  4.02563957,  1.93201799,  2.94007617,  6.06353749,\n",
       "        -0.21845132,  5.03992908,  9.24083243,  8.07251967,  7.06936126],\n",
       "       [ 0.79042906,  6.04935039,  1.88668604,  5.04859264,  4.02442164,\n",
       "        -0.23134089,  2.99137673,  9.24185908,  8.13776735,  7.06085795],\n",
       "       [ 0.80322692,  6.09955574,  1.82959175,  6.06589647,  6.10752811,\n",
       "        -0.23324442,  2.90637555,  4.02657281,  8.13403614,  9.26046093],\n",
       "       [ 0.89804845,  7.09975064,  1.91327418,  2.91171376,  6.06247632,\n",
       "        -0.18352922,  8.14737362,  4.97531968,  3.93479914,  9.24077343],\n",
       "       [ 0.84425964,  9.25918661,  1.87502507,  4.97140559,  5.99164869,\n",
       "        -0.2087538 ,  2.8860084 ,  3.94757498,  7.09450003,  8.33914478],\n",
       "       [ 0.77252901,  9.24085205,  2.96076534,  5.00268677,  4.00489358,\n",
       "        -0.25988015,  1.92827971,  8.20973712,  6.08103662,  7.05909995],\n",
       "       [ 0.79215556,  9.24081934,  1.89700753,  3.99282338,  2.98747279,\n",
       "        -0.23867601,  5.03347855,  8.16590682,  6.06798232,  7.06102972],\n",
       "       [ 0.82095759,  2.97747686,  1.95239001,  4.99554638,  6.04567828,\n",
       "        -0.22755433,  3.99546555,  8.11457452,  9.24082368,  7.08464147],\n",
       "       [ 0.80320431,  1.94732955,  2.97578874,  5.0077828 ,  6.0493648 ,\n",
       "        -0.23690985,  4.00015708,  8.12766094,  7.0847578 ,  9.24086383],\n",
       "       [ 0.79718271,  2.96562571,  1.92706785,  5.01298466,  6.0743468 ,\n",
       "        -0.23975811,  4.00740447,  9.25530915,  8.11607059,  7.08376618],\n",
       "       [ 0.81625578,  7.11520016,  1.89231533,  4.9919311 ,  2.98132395,\n",
       "        -0.22302246,  3.99967195,  8.13480901,  9.24222201,  6.04929317],\n",
       "       [ 0.80930305,  9.24089245,  1.88626848,  5.01779216,  2.9858811 ,\n",
       "        -0.23003336,  6.0769612 ,  8.14159373,  7.06816526,  4.00317592],\n",
       "       [ 0.81548114,  5.04480033,  1.895072  ,  3.00717441,  6.04996994,\n",
       "        -0.22902682,  9.24250496,  8.10639511,  5.02880189,  6.03882704],\n",
       "       [ 0.79999986,  3.95455067,  2.97215017,  3.97363332,  6.05919926,\n",
       "        -0.23678272,  2.9782751 ,  8.1970026 ,  9.24321419,  7.05875756],\n",
       "       [-0.13119998,  5.02313341,  0.89119489,  1.82338288,  6.06506037,\n",
       "         9.240846  ,  8.10323305,  6.00169323,  2.96634821,  5.01630794],\n",
       "       [ 0.83660274,  8.17757926,  1.86297476,  5.00110539,  2.93381149,\n",
       "        -0.20911389,  5.01002037,  4.98770284,  9.24125195,  7.15806509],\n",
       "       [ 0.8362316 ,  4.023473  ,  1.93934983,  2.93845961,  6.04506087,\n",
       "        -0.21463708,  9.24081629,  8.09202286,  5.03073369,  7.06848932],\n",
       "       [ 0.75222619,  2.92955943,  2.93651625,  9.25373326,  5.07810022,\n",
       "        -0.2611137 ,  2.93568077,  8.17286356,  6.09614665,  7.10628737],\n",
       "       [ 0.90721787,  9.24087131,  1.92384403,  2.88419673,  7.0903391 ,\n",
       "        -0.17844698,  8.15214294,  3.96271096,  5.99918144,  5.0179426 ],\n",
       "       [ 0.81600349,  2.9747531 ,  1.96180206,  5.00889115,  9.24544287,\n",
       "        -0.23028488,  3.99226972,  8.13238309,  6.03976395,  7.05897545],\n",
       "       [ 0.85908538,  7.15343557,  1.83387182,  8.10907977,  6.009874  ,\n",
       "        -0.19155284,  3.97409429,  2.88443222,  5.07057856,  9.29710124],\n",
       "       [ 0.81815126,  5.06850049,  1.81617458,  9.24080707,  6.08308123,\n",
       "        -0.22037898,  2.95521231,  4.98858621,  6.06433137,  8.18553446],\n",
       "       [ 0.83213712,  8.13439498,  1.8811163 ,  2.9719367 ,  6.04415311,\n",
       "        -0.21334131,  7.05267557,  5.03038478,  4.02436058,  9.24218218],\n",
       "       [ 0.79073314,  2.96518827,  1.97088564,  5.041578  ,  7.08453075,\n",
       "        -0.24594418,  3.97949915,  9.25570748,  7.09212206,  7.0656997 ],\n",
       "       [ 0.82122018,  4.0203603 ,  1.9426079 ,  2.98604244,  7.05614506,\n",
       "        -0.22331254,  6.04211196,  9.24121509,  8.06860896,  5.04500065],\n",
       "       [ 0.81402682,  6.10539182,  1.90279509,  8.11404476,  6.09616817,\n",
       "        -0.23489537,  3.97387684,  2.87908857,  6.07181334,  9.27768995],\n",
       "       [ 0.84054993,  8.11068056,  1.90910156,  2.98077104,  6.04662713,\n",
       "        -0.20758212,  7.04854914,  5.00073739,  4.02803146,  9.24253389],\n",
       "       [ 0.82890602,  2.99052604,  1.94780788,  9.24083835,  7.05902962,\n",
       "        -0.2197639 ,  5.03911329,  8.09127223,  3.99712925,  6.02514121],\n",
       "       [ 0.81654013,  2.99139761,  1.94308885,  4.01834937,  6.0745545 ,\n",
       "        -0.23120201,  5.04813939,  9.15013651,  8.10113925,  7.08785639],\n",
       "       [ 0.81142703,  5.03890413,  1.80706679,  7.0872634 ,  4.01130893,\n",
       "        -0.23082093,  2.95550217,  6.04464569,  8.15404166,  9.32066113],\n",
       "       [ 0.82757726,  7.15055668,  1.84363312,  6.09449037,  5.02272123,\n",
       "        -0.22015599,  3.89705578,  2.93215244,  8.16419802,  9.28777109],\n",
       "       [ 0.81997877,  3.99095768,  1.95767569,  4.00254085,  6.08693182,\n",
       "        -0.23303254,  4.00385496,  9.19589288,  8.10897057,  7.06622932],\n",
       "       [ 9.06348868,  6.05816888,  0.93745089,  1.84555842,  6.12256763,\n",
       "        -0.17373658,  6.09996032,  4.99529617,  5.02436314,  5.02688245],\n",
       "       [ 0.98007379,  6.06479777,  1.92471229,  2.89644968,  7.10421705,\n",
       "        -0.19686799,  8.09984216,  6.0467117 ,  3.99802402,  8.08203953],\n",
       "       [ 0.78602606,  1.96183119,  2.98312944,  5.01213459,  6.0663818 ,\n",
       "        -0.24625317,  4.00725459,  9.23035848,  8.14518432,  7.0539527 ],\n",
       "       [ 0.74644602,  3.88896911,  1.84236007,  9.27309999,  5.03178798,\n",
       "        -0.26923711,  2.80516432,  8.31235259,  6.20832846,  7.16072858],\n",
       "       [ 0.79109224,  5.04458335,  1.75089931,  8.22445145,  5.07772653,\n",
       "        -0.2364902 ,  2.85178463,  6.03927496,  6.11551119,  9.34116654],\n",
       "       [ 0.80860953,  5.05599111,  1.88418191,  2.9530494 ,  6.09075709,\n",
       "        -0.22433405,  4.04336301,  9.11953858,  7.10949464,  8.15934878],\n",
       "       [ 0.77493377,  5.10174057,  1.67776443,  9.5       ,  7.23516081,\n",
       "        -0.25017409,  2.74092603,  3.84303631,  8.34328995,  6.03332221],\n",
       "       [ 8.052224  ,  9.07546933,  0.9283092 ,  1.8637006 ,  6.1087392 ,\n",
       "        -0.18509785,  6.08935839,  4.01566037,  5.00772128,  4.04391549],\n",
       "       [ 0.97138678,  6.06553432,  1.92200055,  2.90417355,  7.11453939,\n",
       "        -0.18002561,  8.09576642,  5.01998327,  6.02034264,  7.0662987 ],\n",
       "       [ 4.00396357,  6.05416104,  0.91277552,  1.90489365,  8.1178533 ,\n",
       "        -0.19424075,  8.09615237,  5.02605132,  3.003378  ,  8.07501198],\n",
       "       [ 9.08301963,  7.07067157,  0.91110819,  1.85122548,  6.10552051,\n",
       "        -0.17993368,  6.0964053 ,  5.01024734,  5.01602245,  4.03571322],\n",
       "       [ 5.01100176,  8.0714893 ,  0.92459285,  1.88030151,  7.1037353 ,\n",
       "        -0.18738899,  9.10926398,  3.02431479,  4.00553311,  6.05715638],\n",
       "       [ 0.884384  ,  8.12669784,  1.87716185,  3.96961293,  6.06388634,\n",
       "        -0.19002016,  9.15548781,  4.00449642,  4.01195851,  7.09633447],\n",
       "       [ 5.01636197,  7.0698896 ,  0.9282159 ,  1.88231037,  7.10477706,\n",
       "        -0.19336058,  8.08636621,  4.02651304,  2.99484669,  8.08407974],\n",
       "       [ 9.24082921,  6.03740381,  0.89288661,  1.85292497,  6.08478041,\n",
       "        -0.19954922,  7.06978138,  3.99776377,  2.97475621,  7.04842284],\n",
       "       [ 6.02220616,  7.06470133,  0.91965934,  1.88691231,  6.10245907,\n",
       "        -0.19328807,  8.09293379,  4.02282225,  2.99524254,  8.08635127]])"
      ]
     },
     "execution_count": 21,
     "metadata": {},
     "output_type": "execute_result"
    }
   ],
   "source": [
    "YPred  # [7, 8, 6, 4, 9, 7, 9, 6, 1, 6, 7, 2, 4, 2, 2, 7, 9, 7, 9, 7, 8, 6,\n",
    "#9, 4, 8, 9, 1, 3, 9, 9, 8, 7, 7, 9, 9, 1, 1, 1, 8, 9, 7, 8, 1, 6,\n",
    " #      8, 5, 8, 6, 3, 1, 4, 9, 3, 9, 7, 7, 9, 9, 3, 7, 3, 9, 4, 8, 7, 1,\n",
    "  #     9, 9, 1, 9, 1, 3, 3, 2, 3, 1, 1, 0, 4, 7, 8, 6, 4, 9, 7, 9, 6, 1,\n",
    "   #    6, 7, 2, 4, 2, 2, 7, 9, 7, 9, 7, 8, 6, 9, 4, 8, 9, 1, 3, 9, 9, 8,\n",
    "    #   7, 7, 9,9,\n",
    "     #  1, 1, 1, 8, 9, 7, 8, 1, 6, 8,5, 8,\n",
    "      # 6, 3, 1, 4, 9, 3, 9, 7, 7, 9, 9, 3, 7, 3, 9, 4, 8, 7, 1, 9, 9, 1, \n",
    "       #9, 1, 3, 3, 2, 3, 1, 1, 0, 4]'''"
   ]
  },
  {
   "cell_type": "code",
   "execution_count": 22,
   "metadata": {},
   "outputs": [],
   "source": [
    "dfYPred=YPred"
   ]
  },
  {
   "cell_type": "code",
   "execution_count": 23,
   "metadata": {},
   "outputs": [],
   "source": [
    "df=pd.DataFrame(data=dfYPred)"
   ]
  },
  {
   "cell_type": "code",
   "execution_count": 24,
   "metadata": {},
   "outputs": [
    {
     "data": {
      "text/plain": [
       "array([[ 0.81654013,  2.99139761,  1.94308885,  4.01834937,  6.0745545 ,\n",
       "        -0.23120201,  5.04813939,  9.15013651,  8.10113925,  7.08785639],\n",
       "       [ 0.81142703,  5.03890413,  1.80706679,  7.0872634 ,  4.01130893,\n",
       "        -0.23082093,  2.95550217,  6.04464569,  8.15404166,  9.32066113],\n",
       "       [ 0.82757726,  7.15055668,  1.84363312,  6.09449037,  5.02272123,\n",
       "        -0.22015599,  3.89705578,  2.93215244,  8.16419802,  9.28777109],\n",
       "       [ 0.81997877,  3.99095768,  1.95767569,  4.00254085,  6.08693182,\n",
       "        -0.23303254,  4.00385496,  9.19589288,  8.10897057,  7.06622932],\n",
       "       [ 9.06348868,  6.05816888,  0.93745089,  1.84555842,  6.12256763,\n",
       "        -0.17373658,  6.09996032,  4.99529617,  5.02436314,  5.02688245],\n",
       "       [ 0.98007379,  6.06479777,  1.92471229,  2.89644968,  7.10421705,\n",
       "        -0.19686799,  8.09984216,  6.0467117 ,  3.99802402,  8.08203953],\n",
       "       [ 0.78602606,  1.96183119,  2.98312944,  5.01213459,  6.0663818 ,\n",
       "        -0.24625317,  4.00725459,  9.23035848,  8.14518432,  7.0539527 ],\n",
       "       [ 0.74644602,  3.88896911,  1.84236007,  9.27309999,  5.03178798,\n",
       "        -0.26923711,  2.80516432,  8.31235259,  6.20832846,  7.16072858],\n",
       "       [ 0.79109224,  5.04458335,  1.75089931,  8.22445145,  5.07772653,\n",
       "        -0.2364902 ,  2.85178463,  6.03927496,  6.11551119,  9.34116654],\n",
       "       [ 0.80860953,  5.05599111,  1.88418191,  2.9530494 ,  6.09075709,\n",
       "        -0.22433405,  4.04336301,  9.11953858,  7.10949464,  8.15934878],\n",
       "       [ 0.77493377,  5.10174057,  1.67776443,  9.5       ,  7.23516081,\n",
       "        -0.25017409,  2.74092603,  3.84303631,  8.34328995,  6.03332221],\n",
       "       [ 8.052224  ,  9.07546933,  0.9283092 ,  1.8637006 ,  6.1087392 ,\n",
       "        -0.18509785,  6.08935839,  4.01566037,  5.00772128,  4.04391549],\n",
       "       [ 0.97138678,  6.06553432,  1.92200055,  2.90417355,  7.11453939,\n",
       "        -0.18002561,  8.09576642,  5.01998327,  6.02034264,  7.0662987 ],\n",
       "       [ 4.00396357,  6.05416104,  0.91277552,  1.90489365,  8.1178533 ,\n",
       "        -0.19424075,  8.09615237,  5.02605132,  3.003378  ,  8.07501198],\n",
       "       [ 9.08301963,  7.07067157,  0.91110819,  1.85122548,  6.10552051,\n",
       "        -0.17993368,  6.0964053 ,  5.01024734,  5.01602245,  4.03571322],\n",
       "       [ 5.01100176,  8.0714893 ,  0.92459285,  1.88030151,  7.1037353 ,\n",
       "        -0.18738899,  9.10926398,  3.02431479,  4.00553311,  6.05715638],\n",
       "       [ 0.884384  ,  8.12669784,  1.87716185,  3.96961293,  6.06388634,\n",
       "        -0.19002016,  9.15548781,  4.00449642,  4.01195851,  7.09633447],\n",
       "       [ 5.01636197,  7.0698896 ,  0.9282159 ,  1.88231037,  7.10477706,\n",
       "        -0.19336058,  8.08636621,  4.02651304,  2.99484669,  8.08407974],\n",
       "       [ 6.02220616,  7.06470133,  0.91965934,  1.88691231,  6.10245907,\n",
       "        -0.19328807,  8.09293379,  4.02282225,  2.99524254,  8.08635127],\n",
       "       [ 0.83705251,  3.98859023,  1.97090616,  2.96052992,  6.03346556,\n",
       "        -0.21105959,  8.09332896,  9.24083736,  5.01271493,  7.07363396],\n",
       "       [ 0.8378761 ,  5.03965348,  1.89456716,  5.01651112,  6.04531606,\n",
       "        -0.21350553,  2.99554685,  6.02415244,  9.24084103,  8.11904129],\n",
       "       [ 0.804558  ,  1.93588353,  7.08030708,  2.98746619,  3.9976038 ,\n",
       "        -0.23441155,  9.24324945,  7.11972429,  4.99963811,  7.06598111],\n",
       "       [ 0.84377123,  5.01725745,  1.92143409,  2.98030891,  9.24081153,\n",
       "        -0.21462148,  7.05967473,  6.06562924,  4.01640839,  8.06932591],\n",
       "       [ 0.8070891 ,  2.95801339,  7.076985  ,  1.956801  ,  6.04981332,\n",
       "        -0.23256286,  4.0033705 ,  8.1252332 ,  5.01429976,  9.2409576 ],\n",
       "       [ 0.83426189,  3.00821555,  5.02115345,  1.90925039,  6.04150862,\n",
       "        -0.21167461,  7.07151912,  9.24084276,  4.00900077,  8.07592205],\n",
       "       [ 0.83869101,  6.07434841,  1.86647056,  4.00500295,  5.03190958,\n",
       "        -0.21131617,  2.98930352,  8.07703279,  7.08771309,  9.24084428],\n",
       "       [ 0.85702791,  7.07350897,  1.92761395,  2.9653543 ,  7.07292263,\n",
       "        -0.20703649,  9.24083398,  5.0164227 ,  3.99513355,  7.0582185 ],\n",
       "       [ 0.90703025,  9.24084497,  1.92457759,  2.88429404,  6.08749685,\n",
       "        -0.17771308,  7.14357872,  3.93892428,  4.95315097,  8.09781542],\n",
       "       [ 0.87202811,  8.07954441,  1.92213404,  2.92812469,  7.06624209,\n",
       "        -0.18144219,  9.24081814,  6.03556587,  3.98190147,  5.05508337],\n",
       "       [ 0.80759059,  6.05587181,  1.89816928,  7.0494881 ,  4.04002746,\n",
       "        -0.23372472,  3.00982876,  9.24159045,  6.06227548,  7.0688828 ],\n",
       "       [ 0.77151768,  2.90823379,  9.24083059,  6.06812922,  4.03067459,\n",
       "        -0.25402377,  1.83337806,  8.266855  ,  5.05076058,  7.08364426],\n",
       "       [ 0.84299682,  4.01742221,  1.88338006,  6.01595011,  9.2408332 ,\n",
       "        -0.21067899,  2.99880715,  5.02659218,  7.08020191,  8.10449535],\n",
       "       [ 0.78141952,  1.92081569,  9.240802  ,  4.00932064,  5.03929153,\n",
       "        -0.24578822,  2.97922509,  8.14664304,  6.0682682 ,  7.0600025 ],\n",
       "       [ 0.87919107,  6.04301821,  9.24083607,  1.8351437 ,  5.06789249,\n",
       "        -0.18729045,  7.10922372,  3.9749531 ,  2.92350945,  8.11352264],\n",
       "       [ 0.81333413,  4.0059196 ,  1.96589786,  3.00237685,  8.05297431,\n",
       "        -0.22879983,  7.05974959,  9.24400472,  5.03464828,  6.04989449],\n",
       "       [ 0.82921777,  8.21286558,  1.8668533 ,  2.93300283,  4.97342674,\n",
       "        -0.2140814 ,  6.00293843,  3.9854827 ,  7.1178245 ,  9.29246954],\n",
       "       [ 0.81762204,  5.03109451,  1.94235629,  3.99465233,  6.04428579,\n",
       "        -0.22631043,  2.97202956,  9.24129196,  7.09279725,  8.09018069],\n",
       "       [ 0.82105002,  2.95157533,  8.12236252,  1.93960427,  6.05568796,\n",
       "        -0.22093546,  5.05192556,  7.07864263,  3.95927562,  9.24081154],\n",
       "       [ 0.77673434,  1.93858187,  3.97100453,  6.04832424,  5.06408269,\n",
       "        -0.24952709,  2.94381835,  9.27049716,  8.13920333,  7.09728058],\n",
       "       [ 0.80664579,  3.97744088,  1.96551557,  4.00341815,  6.03997049,\n",
       "        -0.22796017,  3.99667243,  8.16470267,  9.24082677,  7.03276743],\n",
       "       [ 0.84761225,  7.07168511,  5.02530283,  1.90575319,  6.0343218 ,\n",
       "        -0.20708331,  9.24081019,  8.08545773,  3.9997299 ,  2.9964103 ],\n",
       "       [ 0.77344409,  1.92065087,  3.9623776 ,  6.04870769,  5.0764128 ,\n",
       "        -0.25414342,  2.92195812,  8.20095874,  7.10848626,  9.24114726],\n",
       "       [ 0.82367792,  2.98137751,  5.01100272,  1.95526363,  9.24080659,\n",
       "        -0.22126314,  6.06614677,  7.07782628,  3.98568631,  8.07947541],\n",
       "       [ 0.80772403,  3.99599976,  1.93978898,  2.96009439,  6.05845335,\n",
       "        -0.23253801,  5.03160866,  8.14659647,  9.2408307 ,  7.05144168],\n",
       "       [ 0.78436052,  4.99869851,  1.75123925,  8.23227219,  4.01023134,\n",
       "        -0.24218293,  2.88950799,  7.1166159 ,  6.15984811,  9.29940913],\n",
       "       [ 0.85105713,  9.24081576,  1.94015002,  4.00322121,  7.07976853,\n",
       "        -0.20468316,  8.08423962,  6.03203497,  2.9598732 ,  5.01352271],\n",
       "       [ 0.7942081 ,  6.06134888,  1.86800039,  9.24183822,  4.02126035,\n",
       "        -0.23824756,  3.00673001,  6.06222168,  6.05656037,  8.12607955],\n",
       "       [ 0.85764004,  8.24247813,  1.86734281,  2.94447974,  4.96597641,\n",
       "        -0.2088864 ,  6.04463754,  3.88826349,  7.05537211,  9.34269614],\n",
       "       [ 0.85664882,  8.09180031,  1.91626549,  2.94809971,  6.05079044,\n",
       "        -0.20218689,  7.03643888,  5.03846396,  4.02281778,  9.24086151],\n",
       "       [ 0.86431807,  5.01998917,  1.94568834,  2.92964548,  6.06756796,\n",
       "        -0.19751205,  8.11388323,  5.99827614,  9.24081337,  5.0173303 ],\n",
       "       [ 0.83453766,  4.02563957,  1.93201799,  2.94007617,  6.06353749,\n",
       "        -0.21845132,  5.03992908,  9.24083243,  8.07251967,  7.06936126],\n",
       "       [ 0.79042906,  6.04935039,  1.88668604,  5.04859264,  4.02442164,\n",
       "        -0.23134089,  2.99137673,  9.24185908,  8.13776735,  7.06085795],\n",
       "       [ 0.80322692,  6.09955574,  1.82959175,  6.06589647,  6.10752811,\n",
       "        -0.23324442,  2.90637555,  4.02657281,  8.13403614,  9.26046093],\n",
       "       [ 0.89804845,  7.09975064,  1.91327418,  2.91171376,  6.06247632,\n",
       "        -0.18352922,  8.14737362,  4.97531968,  3.93479914,  9.24077343],\n",
       "       [ 0.84425964,  9.25918661,  1.87502507,  4.97140559,  5.99164869,\n",
       "        -0.2087538 ,  2.8860084 ,  3.94757498,  7.09450003,  8.33914478],\n",
       "       [ 0.77252901,  9.24085205,  2.96076534,  5.00268677,  4.00489358,\n",
       "        -0.25988015,  1.92827971,  8.20973712,  6.08103662,  7.05909995],\n",
       "       [ 0.79215556,  9.24081934,  1.89700753,  3.99282338,  2.98747279,\n",
       "        -0.23867601,  5.03347855,  8.16590682,  6.06798232,  7.06102972],\n",
       "       [ 0.82095759,  2.97747686,  1.95239001,  4.99554638,  6.04567828,\n",
       "        -0.22755433,  3.99546555,  8.11457452,  9.24082368,  7.08464147],\n",
       "       [ 0.80320431,  1.94732955,  2.97578874,  5.0077828 ,  6.0493648 ,\n",
       "        -0.23690985,  4.00015708,  8.12766094,  7.0847578 ,  9.24086383],\n",
       "       [ 0.79718271,  2.96562571,  1.92706785,  5.01298466,  6.0743468 ,\n",
       "        -0.23975811,  4.00740447,  9.25530915,  8.11607059,  7.08376618],\n",
       "       [ 0.81625578,  7.11520016,  1.89231533,  4.9919311 ,  2.98132395,\n",
       "        -0.22302246,  3.99967195,  8.13480901,  9.24222201,  6.04929317],\n",
       "       [ 0.80930305,  9.24089245,  1.88626848,  5.01779216,  2.9858811 ,\n",
       "        -0.23003336,  6.0769612 ,  8.14159373,  7.06816526,  4.00317592],\n",
       "       [ 0.81548114,  5.04480033,  1.895072  ,  3.00717441,  6.04996994,\n",
       "        -0.22902682,  9.24250496,  8.10639511,  5.02880189,  6.03882704],\n",
       "       [ 0.79999986,  3.95455067,  2.97215017,  3.97363332,  6.05919926,\n",
       "        -0.23678272,  2.9782751 ,  8.1970026 ,  9.24321419,  7.05875756],\n",
       "       [-0.13119998,  5.02313341,  0.89119489,  1.82338288,  6.06506037,\n",
       "         9.240846  ,  8.10323305,  6.00169323,  2.96634821,  5.01630794],\n",
       "       [ 0.83660274,  8.17757926,  1.86297476,  5.00110539,  2.93381149,\n",
       "        -0.20911389,  5.01002037,  4.98770284,  9.24125195,  7.15806509],\n",
       "       [ 0.8362316 ,  4.023473  ,  1.93934983,  2.93845961,  6.04506087,\n",
       "        -0.21463708,  9.24081629,  8.09202286,  5.03073369,  7.06848932],\n",
       "       [ 0.75222619,  2.92955943,  2.93651625,  9.25373326,  5.07810022,\n",
       "        -0.2611137 ,  2.93568077,  8.17286356,  6.09614665,  7.10628737],\n",
       "       [ 0.90721787,  9.24087131,  1.92384403,  2.88419673,  7.0903391 ,\n",
       "        -0.17844698,  8.15214294,  3.96271096,  5.99918144,  5.0179426 ],\n",
       "       [ 0.81600349,  2.9747531 ,  1.96180206,  5.00889115,  9.24544287,\n",
       "        -0.23028488,  3.99226972,  8.13238309,  6.03976395,  7.05897545],\n",
       "       [ 0.85908538,  7.15343557,  1.83387182,  8.10907977,  6.009874  ,\n",
       "        -0.19155284,  3.97409429,  2.88443222,  5.07057856,  9.29710124],\n",
       "       [ 0.81815126,  5.06850049,  1.81617458,  9.24080707,  6.08308123,\n",
       "        -0.22037898,  2.95521231,  4.98858621,  6.06433137,  8.18553446],\n",
       "       [ 0.83213712,  8.13439498,  1.8811163 ,  2.9719367 ,  6.04415311,\n",
       "        -0.21334131,  7.05267557,  5.03038478,  4.02436058,  9.24218218],\n",
       "       [ 0.79073314,  2.96518827,  1.97088564,  5.041578  ,  7.08453075,\n",
       "        -0.24594418,  3.97949915,  9.25570748,  7.09212206,  7.0656997 ],\n",
       "       [ 0.82122018,  4.0203603 ,  1.9426079 ,  2.98604244,  7.05614506,\n",
       "        -0.22331254,  6.04211196,  9.24121509,  8.06860896,  5.04500065],\n",
       "       [ 0.81402682,  6.10539182,  1.90279509,  8.11404476,  6.09616817,\n",
       "        -0.23489537,  3.97387684,  2.87908857,  6.07181334,  9.27768995],\n",
       "       [ 0.84054993,  8.11068056,  1.90910156,  2.98077104,  6.04662713,\n",
       "        -0.20758212,  7.04854914,  5.00073739,  4.02803146,  9.24253389],\n",
       "       [ 0.82890602,  2.99052604,  1.94780788,  9.24083835,  7.05902962,\n",
       "        -0.2197639 ,  5.03911329,  8.09127223,  3.99712925,  6.02514121],\n",
       "       [ 0.81654013,  2.99139761,  1.94308885,  4.01834937,  6.0745545 ,\n",
       "        -0.23120201,  5.04813939,  9.15013651,  8.10113925,  7.08785639],\n",
       "       [ 0.81142703,  5.03890413,  1.80706679,  7.0872634 ,  4.01130893,\n",
       "        -0.23082093,  2.95550217,  6.04464569,  8.15404166,  9.32066113],\n",
       "       [ 0.82757726,  7.15055668,  1.84363312,  6.09449037,  5.02272123,\n",
       "        -0.22015599,  3.89705578,  2.93215244,  8.16419802,  9.28777109],\n",
       "       [ 0.81997877,  3.99095768,  1.95767569,  4.00254085,  6.08693182,\n",
       "        -0.23303254,  4.00385496,  9.19589288,  8.10897057,  7.06622932],\n",
       "       [ 9.06348868,  6.05816888,  0.93745089,  1.84555842,  6.12256763,\n",
       "        -0.17373658,  6.09996032,  4.99529617,  5.02436314,  5.02688245],\n",
       "       [ 0.98007379,  6.06479777,  1.92471229,  2.89644968,  7.10421705,\n",
       "        -0.19686799,  8.09984216,  6.0467117 ,  3.99802402,  8.08203953],\n",
       "       [ 0.78602606,  1.96183119,  2.98312944,  5.01213459,  6.0663818 ,\n",
       "        -0.24625317,  4.00725459,  9.23035848,  8.14518432,  7.0539527 ],\n",
       "       [ 0.74644602,  3.88896911,  1.84236007,  9.27309999,  5.03178798,\n",
       "        -0.26923711,  2.80516432,  8.31235259,  6.20832846,  7.16072858],\n",
       "       [ 0.79109224,  5.04458335,  1.75089931,  8.22445145,  5.07772653,\n",
       "        -0.2364902 ,  2.85178463,  6.03927496,  6.11551119,  9.34116654],\n",
       "       [ 0.80860953,  5.05599111,  1.88418191,  2.9530494 ,  6.09075709,\n",
       "        -0.22433405,  4.04336301,  9.11953858,  7.10949464,  8.15934878],\n",
       "       [ 0.77493377,  5.10174057,  1.67776443,  9.5       ,  7.23516081,\n",
       "        -0.25017409,  2.74092603,  3.84303631,  8.34328995,  6.03332221],\n",
       "       [ 8.052224  ,  9.07546933,  0.9283092 ,  1.8637006 ,  6.1087392 ,\n",
       "        -0.18509785,  6.08935839,  4.01566037,  5.00772128,  4.04391549],\n",
       "       [ 0.97138678,  6.06553432,  1.92200055,  2.90417355,  7.11453939,\n",
       "        -0.18002561,  8.09576642,  5.01998327,  6.02034264,  7.0662987 ],\n",
       "       [ 4.00396357,  6.05416104,  0.91277552,  1.90489365,  8.1178533 ,\n",
       "        -0.19424075,  8.09615237,  5.02605132,  3.003378  ,  8.07501198],\n",
       "       [ 9.08301963,  7.07067157,  0.91110819,  1.85122548,  6.10552051,\n",
       "        -0.17993368,  6.0964053 ,  5.01024734,  5.01602245,  4.03571322],\n",
       "       [ 5.01100176,  8.0714893 ,  0.92459285,  1.88030151,  7.1037353 ,\n",
       "        -0.18738899,  9.10926398,  3.02431479,  4.00553311,  6.05715638],\n",
       "       [ 0.884384  ,  8.12669784,  1.87716185,  3.96961293,  6.06388634,\n",
       "        -0.19002016,  9.15548781,  4.00449642,  4.01195851,  7.09633447],\n",
       "       [ 5.01636197,  7.0698896 ,  0.9282159 ,  1.88231037,  7.10477706,\n",
       "        -0.19336058,  8.08636621,  4.02651304,  2.99484669,  8.08407974],\n",
       "       [ 9.24082921,  6.03740381,  0.89288661,  1.85292497,  6.08478041,\n",
       "        -0.19954922,  7.06978138,  3.99776377,  2.97475621,  7.04842284],\n",
       "       [ 6.02220616,  7.06470133,  0.91965934,  1.88691231,  6.10245907,\n",
       "        -0.19328807,  8.09293379,  4.02282225,  2.99524254,  8.08635127]])"
      ]
     },
     "execution_count": 24,
     "metadata": {},
     "output_type": "execute_result"
    }
   ],
   "source": [
    "dfYPred"
   ]
  },
  {
   "cell_type": "code",
   "execution_count": 25,
   "metadata": {},
   "outputs": [],
   "source": [
    "pers=['Conscientiousness','Extrovert','Agreeable','Emphathetic','Nov Seekng','Perfectionist','Rigid','Impulsive','Psychopath','Obsessive']"
   ]
  },
  {
   "cell_type": "code",
   "execution_count": 26,
   "metadata": {},
   "outputs": [],
   "source": [
    "df.columns=pers"
   ]
  },
  {
   "cell_type": "code",
   "execution_count": 27,
   "metadata": {},
   "outputs": [],
   "source": [
    "df['dom_pers']=df.idxmax(axis=1)"
   ]
  },
  {
   "cell_type": "code",
   "execution_count": 28,
   "metadata": {},
   "outputs": [],
   "source": [
    "df['thres']= np.random.randint(10, 100, df.shape[0])"
   ]
  },
  {
   "cell_type": "code",
   "execution_count": 29,
   "metadata": {},
   "outputs": [],
   "source": [
    "df['user_id']=user_id[n:]"
   ]
  },
  {
   "cell_type": "code",
   "execution_count": 30,
   "metadata": {},
   "outputs": [
    {
     "data": {
      "text/html": [
       "<div>\n",
       "<style scoped>\n",
       "    .dataframe tbody tr th:only-of-type {\n",
       "        vertical-align: middle;\n",
       "    }\n",
       "\n",
       "    .dataframe tbody tr th {\n",
       "        vertical-align: top;\n",
       "    }\n",
       "\n",
       "    .dataframe thead th {\n",
       "        text-align: right;\n",
       "    }\n",
       "</style>\n",
       "<table border=\"1\" class=\"dataframe\">\n",
       "  <thead>\n",
       "    <tr style=\"text-align: right;\">\n",
       "      <th></th>\n",
       "      <th>Conscientiousness</th>\n",
       "      <th>Extrovert</th>\n",
       "      <th>Agreeable</th>\n",
       "      <th>Emphathetic</th>\n",
       "      <th>Nov Seekng</th>\n",
       "      <th>Perfectionist</th>\n",
       "      <th>Rigid</th>\n",
       "      <th>Impulsive</th>\n",
       "      <th>Psychopath</th>\n",
       "      <th>Obsessive</th>\n",
       "      <th>dom_pers</th>\n",
       "      <th>thres</th>\n",
       "      <th>user_id</th>\n",
       "    </tr>\n",
       "  </thead>\n",
       "  <tbody>\n",
       "    <tr>\n",
       "      <th>0</th>\n",
       "      <td>0.816540</td>\n",
       "      <td>2.991398</td>\n",
       "      <td>1.943089</td>\n",
       "      <td>4.018349</td>\n",
       "      <td>6.074555</td>\n",
       "      <td>-0.231202</td>\n",
       "      <td>5.048139</td>\n",
       "      <td>9.150137</td>\n",
       "      <td>8.101139</td>\n",
       "      <td>7.087856</td>\n",
       "      <td>Impulsive</td>\n",
       "      <td>56</td>\n",
       "      <td>1385371850</td>\n",
       "    </tr>\n",
       "    <tr>\n",
       "      <th>1</th>\n",
       "      <td>0.811427</td>\n",
       "      <td>5.038904</td>\n",
       "      <td>1.807067</td>\n",
       "      <td>7.087263</td>\n",
       "      <td>4.011309</td>\n",
       "      <td>-0.230821</td>\n",
       "      <td>2.955502</td>\n",
       "      <td>6.044646</td>\n",
       "      <td>8.154042</td>\n",
       "      <td>9.320661</td>\n",
       "      <td>Obsessive</td>\n",
       "      <td>23</td>\n",
       "      <td>1414166594</td>\n",
       "    </tr>\n",
       "    <tr>\n",
       "      <th>2</th>\n",
       "      <td>0.827577</td>\n",
       "      <td>7.150557</td>\n",
       "      <td>1.843633</td>\n",
       "      <td>6.094490</td>\n",
       "      <td>5.022721</td>\n",
       "      <td>-0.220156</td>\n",
       "      <td>3.897056</td>\n",
       "      <td>2.932152</td>\n",
       "      <td>8.164198</td>\n",
       "      <td>9.287771</td>\n",
       "      <td>Obsessive</td>\n",
       "      <td>59</td>\n",
       "      <td>1438909568</td>\n",
       "    </tr>\n",
       "    <tr>\n",
       "      <th>3</th>\n",
       "      <td>0.819979</td>\n",
       "      <td>3.990958</td>\n",
       "      <td>1.957676</td>\n",
       "      <td>4.002541</td>\n",
       "      <td>6.086932</td>\n",
       "      <td>-0.233033</td>\n",
       "      <td>4.003855</td>\n",
       "      <td>9.195893</td>\n",
       "      <td>8.108971</td>\n",
       "      <td>7.066229</td>\n",
       "      <td>Impulsive</td>\n",
       "      <td>29</td>\n",
       "      <td>1516255956</td>\n",
       "    </tr>\n",
       "    <tr>\n",
       "      <th>4</th>\n",
       "      <td>9.063489</td>\n",
       "      <td>6.058169</td>\n",
       "      <td>0.937451</td>\n",
       "      <td>1.845558</td>\n",
       "      <td>6.122568</td>\n",
       "      <td>-0.173737</td>\n",
       "      <td>6.099960</td>\n",
       "      <td>4.995296</td>\n",
       "      <td>5.024363</td>\n",
       "      <td>5.026882</td>\n",
       "      <td>Conscientiousness</td>\n",
       "      <td>91</td>\n",
       "      <td>1530948307</td>\n",
       "    </tr>\n",
       "    <tr>\n",
       "      <th>5</th>\n",
       "      <td>0.980074</td>\n",
       "      <td>6.064798</td>\n",
       "      <td>1.924712</td>\n",
       "      <td>2.896450</td>\n",
       "      <td>7.104217</td>\n",
       "      <td>-0.196868</td>\n",
       "      <td>8.099842</td>\n",
       "      <td>6.046712</td>\n",
       "      <td>3.998024</td>\n",
       "      <td>8.082040</td>\n",
       "      <td>Rigid</td>\n",
       "      <td>36</td>\n",
       "      <td>1534856329</td>\n",
       "    </tr>\n",
       "    <tr>\n",
       "      <th>6</th>\n",
       "      <td>0.786026</td>\n",
       "      <td>1.961831</td>\n",
       "      <td>2.983129</td>\n",
       "      <td>5.012135</td>\n",
       "      <td>6.066382</td>\n",
       "      <td>-0.246253</td>\n",
       "      <td>4.007255</td>\n",
       "      <td>9.230358</td>\n",
       "      <td>8.145184</td>\n",
       "      <td>7.053953</td>\n",
       "      <td>Impulsive</td>\n",
       "      <td>40</td>\n",
       "      <td>1537350764</td>\n",
       "    </tr>\n",
       "    <tr>\n",
       "      <th>7</th>\n",
       "      <td>0.746446</td>\n",
       "      <td>3.888969</td>\n",
       "      <td>1.842360</td>\n",
       "      <td>9.273100</td>\n",
       "      <td>5.031788</td>\n",
       "      <td>-0.269237</td>\n",
       "      <td>2.805164</td>\n",
       "      <td>8.312353</td>\n",
       "      <td>6.208328</td>\n",
       "      <td>7.160729</td>\n",
       "      <td>Emphathetic</td>\n",
       "      <td>22</td>\n",
       "      <td>1537352881</td>\n",
       "    </tr>\n",
       "    <tr>\n",
       "      <th>8</th>\n",
       "      <td>0.791092</td>\n",
       "      <td>5.044583</td>\n",
       "      <td>1.750899</td>\n",
       "      <td>8.224451</td>\n",
       "      <td>5.077727</td>\n",
       "      <td>-0.236490</td>\n",
       "      <td>2.851785</td>\n",
       "      <td>6.039275</td>\n",
       "      <td>6.115511</td>\n",
       "      <td>9.341167</td>\n",
       "      <td>Obsessive</td>\n",
       "      <td>49</td>\n",
       "      <td>1601780840</td>\n",
       "    </tr>\n",
       "    <tr>\n",
       "      <th>9</th>\n",
       "      <td>0.808610</td>\n",
       "      <td>5.055991</td>\n",
       "      <td>1.884182</td>\n",
       "      <td>2.953049</td>\n",
       "      <td>6.090757</td>\n",
       "      <td>-0.224334</td>\n",
       "      <td>4.043363</td>\n",
       "      <td>9.119539</td>\n",
       "      <td>7.109495</td>\n",
       "      <td>8.159349</td>\n",
       "      <td>Impulsive</td>\n",
       "      <td>38</td>\n",
       "      <td>1607302296</td>\n",
       "    </tr>\n",
       "  </tbody>\n",
       "</table>\n",
       "</div>"
      ],
      "text/plain": [
       "   Conscientiousness  Extrovert  Agreeable  Emphathetic  Nov Seekng  \\\n",
       "0           0.816540   2.991398   1.943089     4.018349    6.074555   \n",
       "1           0.811427   5.038904   1.807067     7.087263    4.011309   \n",
       "2           0.827577   7.150557   1.843633     6.094490    5.022721   \n",
       "3           0.819979   3.990958   1.957676     4.002541    6.086932   \n",
       "4           9.063489   6.058169   0.937451     1.845558    6.122568   \n",
       "5           0.980074   6.064798   1.924712     2.896450    7.104217   \n",
       "6           0.786026   1.961831   2.983129     5.012135    6.066382   \n",
       "7           0.746446   3.888969   1.842360     9.273100    5.031788   \n",
       "8           0.791092   5.044583   1.750899     8.224451    5.077727   \n",
       "9           0.808610   5.055991   1.884182     2.953049    6.090757   \n",
       "\n",
       "   Perfectionist     Rigid  Impulsive  Psychopath  Obsessive  \\\n",
       "0      -0.231202  5.048139   9.150137    8.101139   7.087856   \n",
       "1      -0.230821  2.955502   6.044646    8.154042   9.320661   \n",
       "2      -0.220156  3.897056   2.932152    8.164198   9.287771   \n",
       "3      -0.233033  4.003855   9.195893    8.108971   7.066229   \n",
       "4      -0.173737  6.099960   4.995296    5.024363   5.026882   \n",
       "5      -0.196868  8.099842   6.046712    3.998024   8.082040   \n",
       "6      -0.246253  4.007255   9.230358    8.145184   7.053953   \n",
       "7      -0.269237  2.805164   8.312353    6.208328   7.160729   \n",
       "8      -0.236490  2.851785   6.039275    6.115511   9.341167   \n",
       "9      -0.224334  4.043363   9.119539    7.109495   8.159349   \n",
       "\n",
       "            dom_pers  thres     user_id  \n",
       "0          Impulsive     56  1385371850  \n",
       "1          Obsessive     23  1414166594  \n",
       "2          Obsessive     59  1438909568  \n",
       "3          Impulsive     29  1516255956  \n",
       "4  Conscientiousness     91  1530948307  \n",
       "5              Rigid     36  1534856329  \n",
       "6          Impulsive     40  1537350764  \n",
       "7        Emphathetic     22  1537352881  \n",
       "8          Obsessive     49  1601780840  \n",
       "9          Impulsive     38  1607302296  "
      ]
     },
     "execution_count": 30,
     "metadata": {},
     "output_type": "execute_result"
    }
   ],
   "source": [
    "df.set_index('user_id')\n",
    "df.head(10)"
   ]
  },
  {
   "cell_type": "code",
   "execution_count": 31,
   "metadata": {},
   "outputs": [],
   "source": [
    "def cosine_sim(df):\n",
    "    for index, row in df.iterrows():\n",
    "        print((row[1:10]))"
   ]
  },
  {
   "cell_type": "code",
   "execution_count": 32,
   "metadata": {},
   "outputs": [],
   "source": [
    "df1=pd.DataFrame(data=sk.cosine_similarity(YPred,YPred))"
   ]
  },
  {
   "cell_type": "code",
   "execution_count": 33,
   "metadata": {},
   "outputs": [],
   "source": [
    "df1=df1*100"
   ]
  },
  {
   "cell_type": "code",
   "execution_count": 34,
   "metadata": {},
   "outputs": [],
   "source": [
    "df1.columns=user_id[n:]\n",
    "df1['user_id']=user_id[n:]"
   ]
  },
  {
   "cell_type": "code",
   "execution_count": 35,
   "metadata": {},
   "outputs": [],
   "source": [
    "#df_1=df1.loc[df1['user_id'] == '1516255956']"
   ]
  },
  {
   "cell_type": "code",
   "execution_count": 36,
   "metadata": {},
   "outputs": [],
   "source": [
    "#userid or input\n",
    "userid='1414166594'"
   ]
  },
  {
   "cell_type": "code",
   "execution_count": 37,
   "metadata": {},
   "outputs": [
    {
     "data": {
      "image/png": "[encoded data removed]",
      "text/plain": [
       "<matplotlib.figure.Figure at 0x7f378849e160>"
      ]
     },
     "metadata": {},
     "output_type": "display_data"
    }
   ],
   "source": [
    "df_d=df.loc[df['user_id'] == userid]\n",
    "\n",
    "labels = tuple(pers)#'Extrovert', 'Agreeable', 'Empathetic','Novelty Seeking','Perfectionist','Rigid','Impulsive','Psychopath','Obsessive'\n",
    "sizes = df_d.iloc[0,:10]\n",
    "\n",
    "explode = (0.2,0,0.2,0,0.2,0,0.2,0,0.2,0)\n",
    "\n",
    "fig1, ax1 = plt.subplots()\n",
    "ax1.pie(sizes, explode=explode, labels=labels, autopct='%1.1f%%',\n",
    "        shadow=True, startangle=90)\n",
    "ax1.axis('equal')  # Equal aspect ratio ensures that pie is drawn as a circle.\n",
    "\n",
    "plt.show()"
   ]
  },
  {
   "cell_type": "code",
   "execution_count": 38,
   "metadata": {},
   "outputs": [],
   "source": [
    "df_d=df1.loc[df1['user_id'] == userid]\n",
    "df_2=df_d[(df_d<100) & (df_d>df.loc[df['user_id'] == userid]['thres'].iloc[0])]\n",
    "df_2=df_2[df_2!='NaN']\n",
    "df_2.dropna(axis=1,inplace=True)\n",
    "df_2=df_2.iloc[:,:-1]\n",
    "df_2=df_2.transpose()\n",
    "df_2.columns=[1]\n",
    "df_2=df_2.sort_values(1)"
   ]
  },
  {
   "cell_type": "code",
   "execution_count": 39,
   "metadata": {},
   "outputs": [
    {
     "data": {
      "text/html": [
       "<div>\n",
       "<style scoped>\n",
       "    .dataframe tbody tr th:only-of-type {\n",
       "        vertical-align: middle;\n",
       "    }\n",
       "\n",
       "    .dataframe tbody tr th {\n",
       "        vertical-align: top;\n",
       "    }\n",
       "\n",
       "    .dataframe thead th {\n",
       "        text-align: right;\n",
       "    }\n",
       "</style>\n",
       "<table border=\"1\" class=\"dataframe\">\n",
       "  <thead>\n",
       "    <tr style=\"text-align: right;\">\n",
       "      <th></th>\n",
       "      <th>1</th>\n",
       "    </tr>\n",
       "  </thead>\n",
       "  <tbody>\n",
       "    <tr>\n",
       "      <th>985236412</th>\n",
       "      <td>66.419100</td>\n",
       "    </tr>\n",
       "    <tr>\n",
       "      <th>185264710</th>\n",
       "      <td>72.908018</td>\n",
       "    </tr>\n",
       "    <tr>\n",
       "      <th>1238463202</th>\n",
       "      <td>73.135473</td>\n",
       "    </tr>\n",
       "    <tr>\n",
       "      <th>1632372234</th>\n",
       "      <td>73.135473</td>\n",
       "    </tr>\n",
       "    <tr>\n",
       "      <th>1263214580</th>\n",
       "      <td>73.558962</td>\n",
       "    </tr>\n",
       "  </tbody>\n",
       "</table>\n",
       "</div>"
      ],
      "text/plain": [
       "                    1\n",
       "985236412   66.419100\n",
       "185264710   72.908018\n",
       "1238463202  73.135473\n",
       "1632372234  73.135473\n",
       "1263214580  73.558962"
      ]
     },
     "execution_count": 39,
     "metadata": {},
     "output_type": "execute_result"
    }
   ],
   "source": [
    "df_2.head()"
   ]
  },
  {
   "cell_type": "code",
   "execution_count": 40,
   "metadata": {},
   "outputs": [],
   "source": [
    "from IPython import display\n",
    "def plotSimilarityGraph(userid2):\n",
    "    \n",
    "    user_personality_df=df.loc[(df['user_id'] == userid) | (df['user_id']==userid2 )]\n",
    "\n",
    "    del user_personality_df['thres']\n",
    "    del user_personality_df['dom_pers']\n",
    "\n",
    "    df_melt = user_personality_df.melt('user_id', var_name='Personalities',  value_name='Magnitudes')\n",
    "    df_melt\n",
    "\n",
    "    barG=sns.factorplot(data=df_melt, kind='bar',hue='user_id',x='Personalities',y='Magnitudes',palette='Set1')\n",
    "    barG.set_xticklabels(rotation=90)\n",
    "    display.display(barG)"
   ]
  },
  {
   "cell_type": "code",
   "execution_count": 41,
   "metadata": {
    "scrolled": true
   },
   "outputs": [
    {
     "data": {
      "text/plain": [
       "<seaborn.axisgrid.FacetGrid at 0x7f37884a6828>"
      ]
     },
     "metadata": {},
     "output_type": "display_data"
    },
    {
     "name": "stdout",
     "output_type": "stream",
     "text": [
      "Do you want another suggestion? (y/n): n\n"
     ]
    },
    {
     "data": {
      "image/png": "[encoded data removed]",
      "text/plain": [
       "<matplotlib.figure.Figure at 0x7f37884a6668>"
      ]
     },
     "metadata": {},
     "output_type": "display_data"
    }
   ],
   "source": [
    "for index,row in df_2.itertuples():\n",
    "    plotSimilarityGraph(index)\n",
    "    inp=input(\"Do you want another suggestion? (y/n): \")\n",
    "    if(inp=='n'):\n",
    "        break;"
   ]
  },
  {
   "cell_type": "code",
   "execution_count": null,
   "metadata": {},
   "outputs": [],
   "source": []
  }
 ],
 "metadata": {
  "colab": {
   "default_view": {},
   "name": "Personality Predictor and Visualizer-Copy3.ipynb",
   "provenance": [],
   "version": "0.3.2",
   "views": {}
  },
  "kernelspec": {
   "display_name": "Python 3",
   "language": "python",
   "name": "python3"
  },
  "language_info": {
   "codemirror_mode": {
    "name": "ipython",
    "version": 3
   },
   "file_extension": ".py",
   "mimetype": "text/x-python",
   "name": "python",
   "nbconvert_exporter": "python",
   "pygments_lexer": "ipython3",
   "version": "3.5.2"
  }
 },
 "nbformat": 4,
 "nbformat_minor": 1
}
